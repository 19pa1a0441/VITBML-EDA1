{
  "nbformat": 4,
  "nbformat_minor": 0,
  "metadata": {
    "colab": {
      "name": "UKMG#Trail2.ipynb",
      "provenance": [],
      "collapsed_sections": [],
      "toc_visible": true,
      "include_colab_link": true
    },
    "kernelspec": {
      "name": "python3",
      "display_name": "Python 3"
    }
  },
  "cells": [
    {
      "cell_type": "markdown",
      "metadata": {
        "id": "view-in-github",
        "colab_type": "text"
      },
      "source": [
        "<a href=\"https://colab.research.google.com/github/19pa1a0441/VITBML-EDA1/blob/master/UKMG_project%20ml.ipynb\" target=\"_parent\"><img src=\"https://colab.research.google.com/assets/colab-badge.svg\" alt=\"Open In Colab\"/></a>"
      ]
    },
    {
      "cell_type": "markdown",
      "metadata": {
        "id": "lo2_HN2Ra8Sw",
        "colab_type": "text"
      },
      "source": [
        ""
      ]
    },
    {
      "cell_type": "markdown",
      "metadata": {
        "id": "lNLLbdveoOy0",
        "colab_type": "text"
      },
      "source": [
        "# **Introduction:**\n",
        " The dataset choosen in below gives the information regarding  sucide rates overview from 1985 to 2016 in different nations."
      ]
    },
    {
      "cell_type": "markdown",
      "metadata": {
        "id": "bqBtMMn0rtL6",
        "colab_type": "text"
      },
      "source": [
        "## **variables :** \n",
        "1. **country** - This column consists of nations from which                  we collected the sucide information .\n",
        "2. **year** - The information present in this column is in which year the sucides are took place(1985 -2016).\n",
        "3. **sex**- This column is about gender.(male or female)\n",
        "4. **age**- The age group of people who committed sucides.\n",
        "5. **suscide number** - Number people committed sucide in a  year .\n",
        "6. **population**- Total population of that nation.\n",
        "7.sucides per 100k population - number of sucides took place per 100k people .\n",
        "8.**country-year**- Sucides occured in particular nation in a year \n",
        "9.**HDI for year**- It describes overall achievement of nation in its social and economic dimensions (HDI - human development index )\n",
        "10.**GDP for year** - (Gross domestic product (GDP)) is a monetary measure of the market value of all the final goods and services produced in a year by that nation.\n",
        "GDP per capita - GDP per capita is a measure of a country's economic output That accounts for its number of people .\n",
        "11.**generation** - This column describes about the generation of the sucide committed people ."
      ]
    },
    {
      "cell_type": "markdown",
      "metadata": {
        "id": "hxLmB_ZU7II5",
        "colab_type": "text"
      },
      "source": [
        ""
      ]
    },
    {
      "cell_type": "markdown",
      "metadata": {
        "id": "00FN8u3Tsep1",
        "colab_type": "text"
      },
      "source": [
        "# **Questionnaire :**\n",
        "  1. How to read the data set using pandas?\n",
        "  2. How to find the dimensions of choosen dataset ?\n",
        "  3. How to get the choosen number of starting rows of a dataset?\n",
        "  4. How to get the choosen number of ending rows of a dataset?\n",
        "  5. How to determine the datatypes of all columns?\n",
        "  6. How to access the all the column names of a dataset?\n",
        "  7. How much memory does each colunmn consumes ?\n",
        "  8. How to access of group of rows and columns by labels ?\n",
        "  9. How to access minimum of a column?\n",
        "  10. How to generate various summary statistics for every column ? "
      ]
    },
    {
      "cell_type": "markdown",
      "metadata": {
        "id": "GWZpTHjg2gBf",
        "colab_type": "text"
      },
      "source": [
        "## **pandas dataframe :**"
      ]
    },
    {
      "cell_type": "code",
      "metadata": {
        "id": "vayLz95b2tuv",
        "colab_type": "code",
        "colab": {}
      },
      "source": [
        "# importing pandas \n",
        "   import pandas as pd\n"
      ],
      "execution_count": 0,
      "outputs": []
    },
    {
      "cell_type": "markdown",
      "metadata": {
        "id": "-7YZ7t953Akv",
        "colab_type": "text"
      },
      "source": [
        "# **Reading data :**"
      ]
    },
    {
      "cell_type": "code",
      "metadata": {
        "id": "LfeqzlKh3SE2",
        "colab_type": "code",
        "outputId": "6e7a99c4-fdfc-4024-ca16-6368ff783151",
        "colab": {
          "base_uri": "https://localhost:8080/",
          "height": 255
        }
      },
      "source": [
        "# read data from csv file\n",
        "oops= pd.read_csv(\"/content/suicide-rates-overview-1985-to-2016 (1).zip\")\n",
        "print(oops)"
      ],
      "execution_count": 0,
      "outputs": [
        {
          "output_type": "stream",
          "text": [
            "          country  year  ... gdp_per_capita ($)       generation\n",
            "0         Albania  1987  ...                796     Generation X\n",
            "1         Albania  1987  ...                796           Silent\n",
            "2         Albania  1987  ...                796     Generation X\n",
            "3         Albania  1987  ...                796  G.I. Generation\n",
            "4         Albania  1987  ...                796          Boomers\n",
            "...           ...   ...  ...                ...              ...\n",
            "27815  Uzbekistan  2014  ...               2309     Generation X\n",
            "27816  Uzbekistan  2014  ...               2309           Silent\n",
            "27817  Uzbekistan  2014  ...               2309     Generation Z\n",
            "27818  Uzbekistan  2014  ...               2309     Generation Z\n",
            "27819  Uzbekistan  2014  ...               2309          Boomers\n",
            "\n",
            "[27820 rows x 12 columns]\n"
          ],
          "name": "stdout"
        }
      ]
    },
    {
      "cell_type": "markdown",
      "metadata": {
        "id": "D7FoT4Rb7xwW",
        "colab_type": "text"
      },
      "source": [
        "# **checking data dimensions :**"
      ]
    },
    {
      "cell_type": "code",
      "metadata": {
        "id": "O4R6Ewyd7-Eo",
        "colab_type": "code",
        "outputId": "7881483a-9b29-492c-e543-3d1b088476f7",
        "colab": {
          "base_uri": "https://localhost:8080/",
          "height": 34
        }
      },
      "source": [
        "# using shape method on data frame \n",
        "print(oops.shape)"
      ],
      "execution_count": 0,
      "outputs": [
        {
          "output_type": "stream",
          "text": [
            "(27820, 12)\n"
          ],
          "name": "stdout"
        }
      ]
    },
    {
      "cell_type": "markdown",
      "metadata": {
        "id": "NpPYo9XF8ejL",
        "colab_type": "text"
      },
      "source": [
        "#**Data inspection** :\n"
      ]
    },
    {
      "cell_type": "code",
      "metadata": {
        "id": "Z4nuzUpi9McA",
        "colab_type": "code",
        "outputId": "a69e6d9c-0903-4beb-c566-a90a2715b320",
        "colab": {
          "base_uri": "https://localhost:8080/",
          "height": 153
        }
      },
      "source": [
        "#getting top 5 rows using head method\n",
        "print(oops.head(5))"
      ],
      "execution_count": 0,
      "outputs": [
        {
          "output_type": "stream",
          "text": [
            "   country  year  ... gdp_per_capita ($)       generation\n",
            "0  Albania  1987  ...                796     Generation X\n",
            "1  Albania  1987  ...                796           Silent\n",
            "2  Albania  1987  ...                796     Generation X\n",
            "3  Albania  1987  ...                796  G.I. Generation\n",
            "4  Albania  1987  ...                796          Boomers\n",
            "\n",
            "[5 rows x 12 columns]\n"
          ],
          "name": "stdout"
        }
      ]
    },
    {
      "cell_type": "code",
      "metadata": {
        "id": "UEd_aB3A9hMf",
        "colab_type": "code",
        "outputId": "871362bd-ef54-48be-9d61-d237c5493f59",
        "colab": {
          "base_uri": "https://localhost:8080/",
          "height": 377
        }
      },
      "source": [
        "# getting last 5 rows using tail method \n",
        "oops.tail(5)"
      ],
      "execution_count": 0,
      "outputs": [
        {
          "output_type": "execute_result",
          "data": {
            "text/html": [
              "<div>\n",
              "<style scoped>\n",
              "    .dataframe tbody tr th:only-of-type {\n",
              "        vertical-align: middle;\n",
              "    }\n",
              "\n",
              "    .dataframe tbody tr th {\n",
              "        vertical-align: top;\n",
              "    }\n",
              "\n",
              "    .dataframe thead th {\n",
              "        text-align: right;\n",
              "    }\n",
              "</style>\n",
              "<table border=\"1\" class=\"dataframe\">\n",
              "  <thead>\n",
              "    <tr style=\"text-align: right;\">\n",
              "      <th></th>\n",
              "      <th>country</th>\n",
              "      <th>year</th>\n",
              "      <th>sex</th>\n",
              "      <th>age</th>\n",
              "      <th>suicides_no</th>\n",
              "      <th>population</th>\n",
              "      <th>suicides/100k pop</th>\n",
              "      <th>country-year</th>\n",
              "      <th>HDI for year</th>\n",
              "      <th>gdp_for_year ($)</th>\n",
              "      <th>gdp_per_capita ($)</th>\n",
              "      <th>generation</th>\n",
              "    </tr>\n",
              "  </thead>\n",
              "  <tbody>\n",
              "    <tr>\n",
              "      <th>27815</th>\n",
              "      <td>Uzbekistan</td>\n",
              "      <td>2014</td>\n",
              "      <td>female</td>\n",
              "      <td>35-54 years</td>\n",
              "      <td>107</td>\n",
              "      <td>3620833</td>\n",
              "      <td>2.96</td>\n",
              "      <td>Uzbekistan2014</td>\n",
              "      <td>0.675</td>\n",
              "      <td>63,067,077,179</td>\n",
              "      <td>2309</td>\n",
              "      <td>Generation X</td>\n",
              "    </tr>\n",
              "    <tr>\n",
              "      <th>27816</th>\n",
              "      <td>Uzbekistan</td>\n",
              "      <td>2014</td>\n",
              "      <td>female</td>\n",
              "      <td>75+ years</td>\n",
              "      <td>9</td>\n",
              "      <td>348465</td>\n",
              "      <td>2.58</td>\n",
              "      <td>Uzbekistan2014</td>\n",
              "      <td>0.675</td>\n",
              "      <td>63,067,077,179</td>\n",
              "      <td>2309</td>\n",
              "      <td>Silent</td>\n",
              "    </tr>\n",
              "    <tr>\n",
              "      <th>27817</th>\n",
              "      <td>Uzbekistan</td>\n",
              "      <td>2014</td>\n",
              "      <td>male</td>\n",
              "      <td>5-14 years</td>\n",
              "      <td>60</td>\n",
              "      <td>2762158</td>\n",
              "      <td>2.17</td>\n",
              "      <td>Uzbekistan2014</td>\n",
              "      <td>0.675</td>\n",
              "      <td>63,067,077,179</td>\n",
              "      <td>2309</td>\n",
              "      <td>Generation Z</td>\n",
              "    </tr>\n",
              "    <tr>\n",
              "      <th>27818</th>\n",
              "      <td>Uzbekistan</td>\n",
              "      <td>2014</td>\n",
              "      <td>female</td>\n",
              "      <td>5-14 years</td>\n",
              "      <td>44</td>\n",
              "      <td>2631600</td>\n",
              "      <td>1.67</td>\n",
              "      <td>Uzbekistan2014</td>\n",
              "      <td>0.675</td>\n",
              "      <td>63,067,077,179</td>\n",
              "      <td>2309</td>\n",
              "      <td>Generation Z</td>\n",
              "    </tr>\n",
              "    <tr>\n",
              "      <th>27819</th>\n",
              "      <td>Uzbekistan</td>\n",
              "      <td>2014</td>\n",
              "      <td>female</td>\n",
              "      <td>55-74 years</td>\n",
              "      <td>21</td>\n",
              "      <td>1438935</td>\n",
              "      <td>1.46</td>\n",
              "      <td>Uzbekistan2014</td>\n",
              "      <td>0.675</td>\n",
              "      <td>63,067,077,179</td>\n",
              "      <td>2309</td>\n",
              "      <td>Boomers</td>\n",
              "    </tr>\n",
              "  </tbody>\n",
              "</table>\n",
              "</div>"
            ],
            "text/plain": [
              "          country  year  ... gdp_per_capita ($)    generation\n",
              "27815  Uzbekistan  2014  ...               2309  Generation X\n",
              "27816  Uzbekistan  2014  ...               2309        Silent\n",
              "27817  Uzbekistan  2014  ...               2309  Generation Z\n",
              "27818  Uzbekistan  2014  ...               2309  Generation Z\n",
              "27819  Uzbekistan  2014  ...               2309       Boomers\n",
              "\n",
              "[5 rows x 12 columns]"
            ]
          },
          "metadata": {
            "tags": []
          },
          "execution_count": 6
        }
      ]
    },
    {
      "cell_type": "code",
      "metadata": {
        "id": "xssIYq9DK8vt",
        "colab_type": "code",
        "outputId": "808d5b1c-66dc-4737-c31c-92a840cf4cb8",
        "colab": {
          "base_uri": "https://localhost:8080/",
          "height": 85
        }
      },
      "source": [
        "# accessing  column names\n",
        "print(oops.columns)"
      ],
      "execution_count": 0,
      "outputs": [
        {
          "output_type": "stream",
          "text": [
            "Index(['country', 'year', 'sex', 'age', 'suicides_no', 'population',\n",
            "       'suicides/100k pop', 'country-year', 'HDI for year',\n",
            "       ' gdp_for_year ($) ', 'gdp_per_capita ($)', 'generation'],\n",
            "      dtype='object')\n"
          ],
          "name": "stdout"
        }
      ]
    },
    {
      "cell_type": "code",
      "metadata": {
        "id": "d9g48KNzK_NN",
        "colab_type": "code",
        "outputId": "acf1d7ee-e20d-4d5e-977a-691573400111",
        "colab": {
          "base_uri": "https://localhost:8080/",
          "height": 255
        }
      },
      "source": [
        "# memory usage\n",
        "oops.memory_usage()"
      ],
      "execution_count": 0,
      "outputs": [
        {
          "output_type": "execute_result",
          "data": {
            "text/plain": [
              "Index                    128\n",
              "country               222560\n",
              "year                  222560\n",
              "sex                   222560\n",
              "age                   222560\n",
              "suicides_no           222560\n",
              "population            222560\n",
              "suicides/100k pop     222560\n",
              "country-year          222560\n",
              "HDI for year          222560\n",
              " gdp_for_year ($)     222560\n",
              "gdp_per_capita ($)    222560\n",
              "generation            222560\n",
              "dtype: int64"
            ]
          },
          "metadata": {
            "tags": []
          },
          "execution_count": 8
        }
      ]
    },
    {
      "cell_type": "code",
      "metadata": {
        "id": "-1CgOdjH--nl",
        "colab_type": "code",
        "outputId": "6f4cab63-3b82-4b84-ed29-7a396958356f",
        "colab": {
          "base_uri": "https://localhost:8080/",
          "height": 238
        }
      },
      "source": [
        "# data type of each coloumn\n",
        "print(oops.dtypes)"
      ],
      "execution_count": 0,
      "outputs": [
        {
          "output_type": "stream",
          "text": [
            "country                object\n",
            "year                    int64\n",
            "sex                    object\n",
            "age                    object\n",
            "suicides_no             int64\n",
            "population              int64\n",
            "suicides/100k pop     float64\n",
            "country-year           object\n",
            "HDI for year          float64\n",
            " gdp_for_year ($)      object\n",
            "gdp_per_capita ($)      int64\n",
            "generation             object\n",
            "dtype: object\n"
          ],
          "name": "stdout"
        }
      ]
    },
    {
      "cell_type": "code",
      "metadata": {
        "id": "hsT7af-S_JTo",
        "colab_type": "code",
        "outputId": "9c76087b-0434-4755-b028-2ec87fe28e43",
        "colab": {
          "base_uri": "https://localhost:8080/",
          "height": 85
        }
      },
      "source": [
        "# accessing  column names\n",
        "print(oops.columns)"
      ],
      "execution_count": 0,
      "outputs": [
        {
          "output_type": "stream",
          "text": [
            "Index(['country', 'year', 'sex', 'age', 'suicides_no', 'population',\n",
            "       'suicides/100k pop', 'country-year', 'HDI for year',\n",
            "       ' gdp_for_year ($) ', 'gdp_per_capita ($)', 'generation'],\n",
            "      dtype='object')\n"
          ],
          "name": "stdout"
        }
      ]
    },
    {
      "cell_type": "code",
      "metadata": {
        "id": "a9z6Mrr2MCod",
        "colab_type": "code",
        "outputId": "f405b548-a4b9-4bf8-bef3-22c31867c6b5",
        "colab": {
          "base_uri": "https://localhost:8080/",
          "height": 221
        }
      },
      "source": [
        "# indexing and selecting data by labels\n",
        "oops.loc[:,\"country\"]"
      ],
      "execution_count": 0,
      "outputs": [
        {
          "output_type": "execute_result",
          "data": {
            "text/plain": [
              "0           Albania\n",
              "1           Albania\n",
              "2           Albania\n",
              "3           Albania\n",
              "4           Albania\n",
              "            ...    \n",
              "27815    Uzbekistan\n",
              "27816    Uzbekistan\n",
              "27817    Uzbekistan\n",
              "27818    Uzbekistan\n",
              "27819    Uzbekistan\n",
              "Name: country, Length: 27820, dtype: object"
            ]
          },
          "metadata": {
            "tags": []
          },
          "execution_count": 34
        }
      ]
    },
    {
      "cell_type": "code",
      "metadata": {
        "id": "xlQLKCP-ONmM",
        "colab_type": "code",
        "outputId": "e63503d4-ab9c-43f5-bcca-d4b9a4912959",
        "colab": {
          "base_uri": "https://localhost:8080/",
          "height": 238
        }
      },
      "source": [
        "# maximum in each column\n",
        "oops.max()"
      ],
      "execution_count": 0,
      "outputs": [
        {
          "output_type": "execute_result",
          "data": {
            "text/plain": [
              "country                   Uzbekistan\n",
              "year                            2016\n",
              "sex                             male\n",
              "age                        75+ years\n",
              "suicides_no                    22338\n",
              "population                  43805214\n",
              "suicides/100k pop             224.97\n",
              "country-year          Uzbekistan2014\n",
              "HDI for year                   0.944\n",
              " gdp_for_year ($)        997,007,926\n",
              "gdp_per_capita ($)            126352\n",
              "generation                    Silent\n",
              "dtype: object"
            ]
          },
          "metadata": {
            "tags": []
          },
          "execution_count": 37
        }
      ]
    },
    {
      "cell_type": "code",
      "metadata": {
        "id": "FJJt-RgqOXnu",
        "colab_type": "code",
        "outputId": "cd4b71e1-164b-453b-cadc-00acc6f9bd9b",
        "colab": {
          "base_uri": "https://localhost:8080/",
          "height": 297
        }
      },
      "source": [
        "oops.describe()"
      ],
      "execution_count": 0,
      "outputs": [
        {
          "output_type": "execute_result",
          "data": {
            "text/html": [
              "<div>\n",
              "<style scoped>\n",
              "    .dataframe tbody tr th:only-of-type {\n",
              "        vertical-align: middle;\n",
              "    }\n",
              "\n",
              "    .dataframe tbody tr th {\n",
              "        vertical-align: top;\n",
              "    }\n",
              "\n",
              "    .dataframe thead th {\n",
              "        text-align: right;\n",
              "    }\n",
              "</style>\n",
              "<table border=\"1\" class=\"dataframe\">\n",
              "  <thead>\n",
              "    <tr style=\"text-align: right;\">\n",
              "      <th></th>\n",
              "      <th>year</th>\n",
              "      <th>suicides_no</th>\n",
              "      <th>population</th>\n",
              "      <th>suicides/100k pop</th>\n",
              "      <th>HDI for year</th>\n",
              "      <th>gdp_per_capita ($)</th>\n",
              "    </tr>\n",
              "  </thead>\n",
              "  <tbody>\n",
              "    <tr>\n",
              "      <th>count</th>\n",
              "      <td>27820.000000</td>\n",
              "      <td>27820.000000</td>\n",
              "      <td>2.782000e+04</td>\n",
              "      <td>27820.000000</td>\n",
              "      <td>8364.000000</td>\n",
              "      <td>27820.000000</td>\n",
              "    </tr>\n",
              "    <tr>\n",
              "      <th>mean</th>\n",
              "      <td>2001.258375</td>\n",
              "      <td>242.574407</td>\n",
              "      <td>1.844794e+06</td>\n",
              "      <td>12.816097</td>\n",
              "      <td>0.776601</td>\n",
              "      <td>16866.464414</td>\n",
              "    </tr>\n",
              "    <tr>\n",
              "      <th>std</th>\n",
              "      <td>8.469055</td>\n",
              "      <td>902.047917</td>\n",
              "      <td>3.911779e+06</td>\n",
              "      <td>18.961511</td>\n",
              "      <td>0.093367</td>\n",
              "      <td>18887.576472</td>\n",
              "    </tr>\n",
              "    <tr>\n",
              "      <th>min</th>\n",
              "      <td>1985.000000</td>\n",
              "      <td>0.000000</td>\n",
              "      <td>2.780000e+02</td>\n",
              "      <td>0.000000</td>\n",
              "      <td>0.483000</td>\n",
              "      <td>251.000000</td>\n",
              "    </tr>\n",
              "    <tr>\n",
              "      <th>25%</th>\n",
              "      <td>1995.000000</td>\n",
              "      <td>3.000000</td>\n",
              "      <td>9.749850e+04</td>\n",
              "      <td>0.920000</td>\n",
              "      <td>0.713000</td>\n",
              "      <td>3447.000000</td>\n",
              "    </tr>\n",
              "    <tr>\n",
              "      <th>50%</th>\n",
              "      <td>2002.000000</td>\n",
              "      <td>25.000000</td>\n",
              "      <td>4.301500e+05</td>\n",
              "      <td>5.990000</td>\n",
              "      <td>0.779000</td>\n",
              "      <td>9372.000000</td>\n",
              "    </tr>\n",
              "    <tr>\n",
              "      <th>75%</th>\n",
              "      <td>2008.000000</td>\n",
              "      <td>131.000000</td>\n",
              "      <td>1.486143e+06</td>\n",
              "      <td>16.620000</td>\n",
              "      <td>0.855000</td>\n",
              "      <td>24874.000000</td>\n",
              "    </tr>\n",
              "    <tr>\n",
              "      <th>max</th>\n",
              "      <td>2016.000000</td>\n",
              "      <td>22338.000000</td>\n",
              "      <td>4.380521e+07</td>\n",
              "      <td>224.970000</td>\n",
              "      <td>0.944000</td>\n",
              "      <td>126352.000000</td>\n",
              "    </tr>\n",
              "  </tbody>\n",
              "</table>\n",
              "</div>"
            ],
            "text/plain": [
              "               year   suicides_no  ...  HDI for year  gdp_per_capita ($)\n",
              "count  27820.000000  27820.000000  ...   8364.000000        27820.000000\n",
              "mean    2001.258375    242.574407  ...      0.776601        16866.464414\n",
              "std        8.469055    902.047917  ...      0.093367        18887.576472\n",
              "min     1985.000000      0.000000  ...      0.483000          251.000000\n",
              "25%     1995.000000      3.000000  ...      0.713000         3447.000000\n",
              "50%     2002.000000     25.000000  ...      0.779000         9372.000000\n",
              "75%     2008.000000    131.000000  ...      0.855000        24874.000000\n",
              "max     2016.000000  22338.000000  ...      0.944000       126352.000000\n",
              "\n",
              "[8 rows x 6 columns]"
            ]
          },
          "metadata": {
            "tags": []
          },
          "execution_count": 38
        }
      ]
    },
    {
      "cell_type": "markdown",
      "metadata": {
        "id": "i029_MrqxUJL",
        "colab_type": "text"
      },
      "source": [
        "# **Central tendency :**"
      ]
    },
    {
      "cell_type": "code",
      "metadata": {
        "id": "6E2tbtlVuejl",
        "colab_type": "code",
        "outputId": "6664551f-5afb-4a42-bb4a-583ba3474eec",
        "colab": {
          "base_uri": "https://localhost:8080/",
          "height": 136
        }
      },
      "source": [
        "# finding median of  numerical columns \n",
        "oops.median()"
      ],
      "execution_count": 0,
      "outputs": [
        {
          "output_type": "execute_result",
          "data": {
            "text/plain": [
              "year                    2010.000\n",
              "suicides_no               27.000\n",
              "population            472250.500\n",
              "suicides/100k pop          5.720\n",
              "HDI for year               0.779\n",
              "gdp_per_capita ($)     12584.000\n",
              "dtype: float64"
            ]
          },
          "metadata": {
            "tags": []
          },
          "execution_count": 20
        }
      ]
    },
    {
      "cell_type": "code",
      "metadata": {
        "id": "VWfL7YYixo4J",
        "colab_type": "code",
        "outputId": "32e8d4f3-85bd-4b66-a3b0-59c327c7868e",
        "colab": {
          "base_uri": "https://localhost:8080/",
          "height": 136
        }
      },
      "source": [
        "#  finding mean of numerical columns\n",
        "oops.mean()"
      ],
      "execution_count": 0,
      "outputs": [
        {
          "output_type": "execute_result",
          "data": {
            "text/plain": [
              "year                  2.005349e+03\n",
              "suicides_no           2.061243e+02\n",
              "population            1.852173e+06\n",
              "suicides/100k pop     1.199194e+01\n",
              "HDI for year          7.766011e-01\n",
              "gdp_per_capita ($)    2.107437e+04\n",
              "dtype: float64"
            ]
          },
          "metadata": {
            "tags": []
          },
          "execution_count": 21
        }
      ]
    },
    {
      "cell_type": "code",
      "metadata": {
        "id": "bJOxmvdzyMSk",
        "colab_type": "code",
        "outputId": "b90c2b66-c059-4a4a-b570-47910e3b849d",
        "colab": {
          "base_uri": "https://localhost:8080/",
          "height": 626
        }
      },
      "source": [
        "# finding mode \n",
        "oops.mode()"
      ],
      "execution_count": 0,
      "outputs": [
        {
          "output_type": "execute_result",
          "data": {
            "text/html": [
              "<div>\n",
              "<style scoped>\n",
              "    .dataframe tbody tr th:only-of-type {\n",
              "        vertical-align: middle;\n",
              "    }\n",
              "\n",
              "    .dataframe tbody tr th {\n",
              "        vertical-align: top;\n",
              "    }\n",
              "\n",
              "    .dataframe thead th {\n",
              "        text-align: right;\n",
              "    }\n",
              "</style>\n",
              "<table border=\"1\" class=\"dataframe\">\n",
              "  <thead>\n",
              "    <tr style=\"text-align: right;\">\n",
              "      <th></th>\n",
              "      <th>country</th>\n",
              "      <th>year</th>\n",
              "      <th>sex</th>\n",
              "      <th>age</th>\n",
              "      <th>suicides_no</th>\n",
              "      <th>population</th>\n",
              "      <th>suicides/100k pop</th>\n",
              "      <th>country-year</th>\n",
              "      <th>HDI for year</th>\n",
              "      <th>gdp_for_year ($)</th>\n",
              "      <th>gdp_per_capita ($)</th>\n",
              "      <th>generation</th>\n",
              "    </tr>\n",
              "  </thead>\n",
              "  <tbody>\n",
              "    <tr>\n",
              "      <th>0</th>\n",
              "      <td>Argentina</td>\n",
              "      <td>2010.0</td>\n",
              "      <td>female</td>\n",
              "      <td>15-24 years</td>\n",
              "      <td>0.0</td>\n",
              "      <td>22000.0</td>\n",
              "      <td>0.0</td>\n",
              "      <td>Albania1995</td>\n",
              "      <td>0.713</td>\n",
              "      <td>1,057,801,282,051</td>\n",
              "      <td>996.0</td>\n",
              "      <td>Generation X</td>\n",
              "    </tr>\n",
              "    <tr>\n",
              "      <th>1</th>\n",
              "      <td>Austria</td>\n",
              "      <td>NaN</td>\n",
              "      <td>male</td>\n",
              "      <td>25-34 years</td>\n",
              "      <td>NaN</td>\n",
              "      <td>24000.0</td>\n",
              "      <td>NaN</td>\n",
              "      <td>Albania2000</td>\n",
              "      <td>0.772</td>\n",
              "      <td>1,059,498,884</td>\n",
              "      <td>4096.0</td>\n",
              "      <td>NaN</td>\n",
              "    </tr>\n",
              "    <tr>\n",
              "      <th>2</th>\n",
              "      <td>Belgium</td>\n",
              "      <td>NaN</td>\n",
              "      <td>NaN</td>\n",
              "      <td>35-54 years</td>\n",
              "      <td>NaN</td>\n",
              "      <td>NaN</td>\n",
              "      <td>NaN</td>\n",
              "      <td>Albania2005</td>\n",
              "      <td>0.888</td>\n",
              "      <td>1,065,826,670</td>\n",
              "      <td>4505.0</td>\n",
              "      <td>NaN</td>\n",
              "    </tr>\n",
              "    <tr>\n",
              "      <th>3</th>\n",
              "      <td>Brazil</td>\n",
              "      <td>NaN</td>\n",
              "      <td>NaN</td>\n",
              "      <td>5-14 years</td>\n",
              "      <td>NaN</td>\n",
              "      <td>NaN</td>\n",
              "      <td>NaN</td>\n",
              "      <td>Albania2010</td>\n",
              "      <td>NaN</td>\n",
              "      <td>1,080,642,033</td>\n",
              "      <td>6662.0</td>\n",
              "      <td>NaN</td>\n",
              "    </tr>\n",
              "    <tr>\n",
              "      <th>4</th>\n",
              "      <td>Bulgaria</td>\n",
              "      <td>NaN</td>\n",
              "      <td>NaN</td>\n",
              "      <td>55-74 years</td>\n",
              "      <td>NaN</td>\n",
              "      <td>NaN</td>\n",
              "      <td>NaN</td>\n",
              "      <td>Antigua and Barbuda2012</td>\n",
              "      <td>NaN</td>\n",
              "      <td>1,093,169,389,205</td>\n",
              "      <td>8906.0</td>\n",
              "      <td>NaN</td>\n",
              "    </tr>\n",
              "    <tr>\n",
              "      <th>...</th>\n",
              "      <td>...</td>\n",
              "      <td>...</td>\n",
              "      <td>...</td>\n",
              "      <td>...</td>\n",
              "      <td>...</td>\n",
              "      <td>...</td>\n",
              "      <td>...</td>\n",
              "      <td>...</td>\n",
              "      <td>...</td>\n",
              "      <td>...</td>\n",
              "      <td>...</td>\n",
              "      <td>...</td>\n",
              "    </tr>\n",
              "    <tr>\n",
              "      <th>692</th>\n",
              "      <td>NaN</td>\n",
              "      <td>NaN</td>\n",
              "      <td>NaN</td>\n",
              "      <td>NaN</td>\n",
              "      <td>NaN</td>\n",
              "      <td>NaN</td>\n",
              "      <td>NaN</td>\n",
              "      <td>Uzbekistan2010</td>\n",
              "      <td>NaN</td>\n",
              "      <td>97,891,090,929</td>\n",
              "      <td>NaN</td>\n",
              "      <td>NaN</td>\n",
              "    </tr>\n",
              "    <tr>\n",
              "      <th>693</th>\n",
              "      <td>NaN</td>\n",
              "      <td>NaN</td>\n",
              "      <td>NaN</td>\n",
              "      <td>NaN</td>\n",
              "      <td>NaN</td>\n",
              "      <td>NaN</td>\n",
              "      <td>NaN</td>\n",
              "      <td>Uzbekistan2011</td>\n",
              "      <td>NaN</td>\n",
              "      <td>98,478,349,315</td>\n",
              "      <td>NaN</td>\n",
              "      <td>NaN</td>\n",
              "    </tr>\n",
              "    <tr>\n",
              "      <th>694</th>\n",
              "      <td>NaN</td>\n",
              "      <td>NaN</td>\n",
              "      <td>NaN</td>\n",
              "      <td>NaN</td>\n",
              "      <td>NaN</td>\n",
              "      <td>NaN</td>\n",
              "      <td>NaN</td>\n",
              "      <td>Uzbekistan2012</td>\n",
              "      <td>NaN</td>\n",
              "      <td>99,697,566,668</td>\n",
              "      <td>NaN</td>\n",
              "      <td>NaN</td>\n",
              "    </tr>\n",
              "    <tr>\n",
              "      <th>695</th>\n",
              "      <td>NaN</td>\n",
              "      <td>NaN</td>\n",
              "      <td>NaN</td>\n",
              "      <td>NaN</td>\n",
              "      <td>NaN</td>\n",
              "      <td>NaN</td>\n",
              "      <td>NaN</td>\n",
              "      <td>Uzbekistan2013</td>\n",
              "      <td>NaN</td>\n",
              "      <td>99,853,528,653</td>\n",
              "      <td>NaN</td>\n",
              "      <td>NaN</td>\n",
              "    </tr>\n",
              "    <tr>\n",
              "      <th>696</th>\n",
              "      <td>NaN</td>\n",
              "      <td>NaN</td>\n",
              "      <td>NaN</td>\n",
              "      <td>NaN</td>\n",
              "      <td>NaN</td>\n",
              "      <td>NaN</td>\n",
              "      <td>NaN</td>\n",
              "      <td>Uzbekistan2014</td>\n",
              "      <td>NaN</td>\n",
              "      <td>99,886,577,331</td>\n",
              "      <td>NaN</td>\n",
              "      <td>NaN</td>\n",
              "    </tr>\n",
              "  </tbody>\n",
              "</table>\n",
              "<p>697 rows × 12 columns</p>\n",
              "</div>"
            ],
            "text/plain": [
              "       country    year  ... gdp_per_capita ($)    generation\n",
              "0    Argentina  2010.0  ...              996.0  Generation X\n",
              "1      Austria     NaN  ...             4096.0           NaN\n",
              "2      Belgium     NaN  ...             4505.0           NaN\n",
              "3       Brazil     NaN  ...             6662.0           NaN\n",
              "4     Bulgaria     NaN  ...             8906.0           NaN\n",
              "..         ...     ...  ...                ...           ...\n",
              "692        NaN     NaN  ...                NaN           NaN\n",
              "693        NaN     NaN  ...                NaN           NaN\n",
              "694        NaN     NaN  ...                NaN           NaN\n",
              "695        NaN     NaN  ...                NaN           NaN\n",
              "696        NaN     NaN  ...                NaN           NaN\n",
              "\n",
              "[697 rows x 12 columns]"
            ]
          },
          "metadata": {
            "tags": []
          },
          "execution_count": 22
        }
      ]
    },
    {
      "cell_type": "markdown",
      "metadata": {
        "id": "GOl0s4cOy3s8",
        "colab_type": "text"
      },
      "source": [
        "## **variability :**"
      ]
    },
    {
      "cell_type": "code",
      "metadata": {
        "id": "clyIX8ldzDfs",
        "colab_type": "code",
        "outputId": "367385f3-b9db-43fd-d31f-ecbcff749d68",
        "colab": {
          "base_uri": "https://localhost:8080/",
          "height": 136
        }
      },
      "source": [
        "# finding variance \n",
        "oops.var()"
      ],
      "execution_count": 0,
      "outputs": [
        {
          "output_type": "execute_result",
          "data": {
            "text/plain": [
              "year                  7.749317e+01\n",
              "suicides_no           4.637671e+05\n",
              "population            1.575894e+13\n",
              "suicides/100k pop     3.014311e+02\n",
              "HDI for year          8.717342e-03\n",
              "gdp_per_capita ($)    5.098197e+08\n",
              "dtype: float64"
            ]
          },
          "metadata": {
            "tags": []
          },
          "execution_count": 41
        }
      ]
    },
    {
      "cell_type": "code",
      "metadata": {
        "id": "Yj56cQd0zPsM",
        "colab_type": "code",
        "outputId": "2ebf2e52-1bbd-4495-8872-3c23acbc6a25",
        "colab": {
          "base_uri": "https://localhost:8080/",
          "height": 136
        }
      },
      "source": [
        "# finding standard deviation\n",
        "oops.std()"
      ],
      "execution_count": 0,
      "outputs": [
        {
          "output_type": "execute_result",
          "data": {
            "text/plain": [
              "year                  8.803020e+00\n",
              "suicides_no           6.810045e+02\n",
              "population            3.969754e+06\n",
              "suicides/100k pop     1.736177e+01\n",
              "HDI for year          9.336671e-02\n",
              "gdp_per_capita ($)    2.257919e+04\n",
              "dtype: float64"
            ]
          },
          "metadata": {
            "tags": []
          },
          "execution_count": 24
        }
      ]
    },
    {
      "cell_type": "markdown",
      "metadata": {
        "id": "POeuj9Jm0JEF",
        "colab_type": "text"
      },
      "source": [
        "# **Histogram** :"
      ]
    },
    {
      "cell_type": "code",
      "metadata": {
        "id": "e8m_nQzDzY5Z",
        "colab_type": "code",
        "outputId": "6ab79adf-182d-411a-d216-d79b83443d82",
        "colab": {
          "base_uri": "https://localhost:8080/",
          "height": 295
        }
      },
      "source": [
        "oops.plot(x=\"year\", y='population',kind=\"hist\")"
      ],
      "execution_count": 0,
      "outputs": [
        {
          "output_type": "execute_result",
          "data": {
            "text/plain": [
              "<matplotlib.axes._subplots.AxesSubplot at 0x7f8008530d68>"
            ]
          },
          "metadata": {
            "tags": []
          },
          "execution_count": 12
        },
        {
          "output_type": "display_data",
          "data": {
            "image/png": "[encoded data removed]",
            "text/plain": [
              "<Figure size 432x288 with 1 Axes>"
            ]
          },
          "metadata": {
            "tags": []
          }
        }
      ]
    },
    {
      "cell_type": "markdown",
      "metadata": {
        "id": "7DeP-u8z16rE",
        "colab_type": "text"
      },
      "source": [
        "*The above chart shows that the distribution is right skewed (positive), and there are extreme higher values at the right of the histogram.*"
      ]
    },
    {
      "cell_type": "markdown",
      "metadata": {
        "id": "WRF-TvNX0UPR",
        "colab_type": "text"
      },
      "source": [
        "# **Scatter Plot :**"
      ]
    },
    {
      "cell_type": "code",
      "metadata": {
        "id": "zj7LNICf5M8I",
        "colab_type": "code",
        "outputId": "d40bbb5e-0dd4-490f-e355-004e42677dee",
        "colab": {
          "base_uri": "https://localhost:8080/",
          "height": 312
        }
      },
      "source": [
        "oops.plot.scatter(x=\"year\",y=\"population\",title=\"scatter plot\")"
      ],
      "execution_count": 0,
      "outputs": [
        {
          "output_type": "execute_result",
          "data": {
            "text/plain": [
              "<matplotlib.axes._subplots.AxesSubplot at 0x7f7493d15828>"
            ]
          },
          "metadata": {
            "tags": []
          },
          "execution_count": 11
        },
        {
          "output_type": "display_data",
          "data": {
            "image/png": "[encoded data removed]",
            "text/plain": [
              "<Figure size 432x288 with 1 Axes>"
            ]
          },
          "metadata": {
            "tags": []
          }
        }
      ]
    },
    {
      "cell_type": "markdown",
      "metadata": {
        "id": "buwvmYNtNDU5",
        "colab_type": "text"
      },
      "source": [
        "*From the above scatterplot we conclude that given data contains outliers*"
      ]
    },
    {
      "cell_type": "markdown",
      "metadata": {
        "id": "gWgtHOBL1Y1U",
        "colab_type": "text"
      },
      "source": [
        ""
      ]
    },
    {
      "cell_type": "markdown",
      "metadata": {
        "id": "exlCcPU-EX4f",
        "colab_type": "text"
      },
      "source": [
        "# **Removing of missing values :**"
      ]
    },
    {
      "cell_type": "code",
      "metadata": {
        "id": "3eVsEoRj-O5-",
        "colab_type": "code",
        "outputId": "d773d5ce-2d80-4b88-8e98-5d2f0844505b",
        "colab": {
          "base_uri": "https://localhost:8080/",
          "height": 745
        }
      },
      "source": [
        "# cleaning data (by deleting the columns having NAN values)\n",
        "oops=data.dropna(axis=0)\n",
        "oops"
      ],
      "execution_count": 0,
      "outputs": [
        {
          "output_type": "execute_result",
          "data": {
            "text/html": [
              "<div>\n",
              "<style scoped>\n",
              "    .dataframe tbody tr th:only-of-type {\n",
              "        vertical-align: middle;\n",
              "    }\n",
              "\n",
              "    .dataframe tbody tr th {\n",
              "        vertical-align: top;\n",
              "    }\n",
              "\n",
              "    .dataframe thead th {\n",
              "        text-align: right;\n",
              "    }\n",
              "</style>\n",
              "<table border=\"1\" class=\"dataframe\">\n",
              "  <thead>\n",
              "    <tr style=\"text-align: right;\">\n",
              "      <th></th>\n",
              "      <th>country</th>\n",
              "      <th>year</th>\n",
              "      <th>sex</th>\n",
              "      <th>age</th>\n",
              "      <th>suicides_no</th>\n",
              "      <th>population</th>\n",
              "      <th>suicides/100k pop</th>\n",
              "      <th>country-year</th>\n",
              "      <th>HDI for year</th>\n",
              "      <th>gdp_for_year ($)</th>\n",
              "      <th>gdp_per_capita ($)</th>\n",
              "      <th>generation</th>\n",
              "    </tr>\n",
              "  </thead>\n",
              "  <tbody>\n",
              "    <tr>\n",
              "      <th>72</th>\n",
              "      <td>Albania</td>\n",
              "      <td>1995</td>\n",
              "      <td>male</td>\n",
              "      <td>25-34 years</td>\n",
              "      <td>13</td>\n",
              "      <td>232900</td>\n",
              "      <td>5.58</td>\n",
              "      <td>Albania1995</td>\n",
              "      <td>0.619</td>\n",
              "      <td>2,424,499,009</td>\n",
              "      <td>835</td>\n",
              "      <td>Generation X</td>\n",
              "    </tr>\n",
              "    <tr>\n",
              "      <th>73</th>\n",
              "      <td>Albania</td>\n",
              "      <td>1995</td>\n",
              "      <td>male</td>\n",
              "      <td>55-74 years</td>\n",
              "      <td>9</td>\n",
              "      <td>178000</td>\n",
              "      <td>5.06</td>\n",
              "      <td>Albania1995</td>\n",
              "      <td>0.619</td>\n",
              "      <td>2,424,499,009</td>\n",
              "      <td>835</td>\n",
              "      <td>Silent</td>\n",
              "    </tr>\n",
              "    <tr>\n",
              "      <th>74</th>\n",
              "      <td>Albania</td>\n",
              "      <td>1995</td>\n",
              "      <td>female</td>\n",
              "      <td>75+ years</td>\n",
              "      <td>2</td>\n",
              "      <td>40800</td>\n",
              "      <td>4.90</td>\n",
              "      <td>Albania1995</td>\n",
              "      <td>0.619</td>\n",
              "      <td>2,424,499,009</td>\n",
              "      <td>835</td>\n",
              "      <td>G.I. Generation</td>\n",
              "    </tr>\n",
              "    <tr>\n",
              "      <th>75</th>\n",
              "      <td>Albania</td>\n",
              "      <td>1995</td>\n",
              "      <td>female</td>\n",
              "      <td>15-24 years</td>\n",
              "      <td>13</td>\n",
              "      <td>283500</td>\n",
              "      <td>4.59</td>\n",
              "      <td>Albania1995</td>\n",
              "      <td>0.619</td>\n",
              "      <td>2,424,499,009</td>\n",
              "      <td>835</td>\n",
              "      <td>Generation X</td>\n",
              "    </tr>\n",
              "    <tr>\n",
              "      <th>76</th>\n",
              "      <td>Albania</td>\n",
              "      <td>1995</td>\n",
              "      <td>male</td>\n",
              "      <td>15-24 years</td>\n",
              "      <td>11</td>\n",
              "      <td>241200</td>\n",
              "      <td>4.56</td>\n",
              "      <td>Albania1995</td>\n",
              "      <td>0.619</td>\n",
              "      <td>2,424,499,009</td>\n",
              "      <td>835</td>\n",
              "      <td>Generation X</td>\n",
              "    </tr>\n",
              "    <tr>\n",
              "      <th>...</th>\n",
              "      <td>...</td>\n",
              "      <td>...</td>\n",
              "      <td>...</td>\n",
              "      <td>...</td>\n",
              "      <td>...</td>\n",
              "      <td>...</td>\n",
              "      <td>...</td>\n",
              "      <td>...</td>\n",
              "      <td>...</td>\n",
              "      <td>...</td>\n",
              "      <td>...</td>\n",
              "      <td>...</td>\n",
              "    </tr>\n",
              "    <tr>\n",
              "      <th>27815</th>\n",
              "      <td>Uzbekistan</td>\n",
              "      <td>2014</td>\n",
              "      <td>female</td>\n",
              "      <td>35-54 years</td>\n",
              "      <td>107</td>\n",
              "      <td>3620833</td>\n",
              "      <td>2.96</td>\n",
              "      <td>Uzbekistan2014</td>\n",
              "      <td>0.675</td>\n",
              "      <td>63,067,077,179</td>\n",
              "      <td>2309</td>\n",
              "      <td>Generation X</td>\n",
              "    </tr>\n",
              "    <tr>\n",
              "      <th>27816</th>\n",
              "      <td>Uzbekistan</td>\n",
              "      <td>2014</td>\n",
              "      <td>female</td>\n",
              "      <td>75+ years</td>\n",
              "      <td>9</td>\n",
              "      <td>348465</td>\n",
              "      <td>2.58</td>\n",
              "      <td>Uzbekistan2014</td>\n",
              "      <td>0.675</td>\n",
              "      <td>63,067,077,179</td>\n",
              "      <td>2309</td>\n",
              "      <td>Silent</td>\n",
              "    </tr>\n",
              "    <tr>\n",
              "      <th>27817</th>\n",
              "      <td>Uzbekistan</td>\n",
              "      <td>2014</td>\n",
              "      <td>male</td>\n",
              "      <td>5-14 years</td>\n",
              "      <td>60</td>\n",
              "      <td>2762158</td>\n",
              "      <td>2.17</td>\n",
              "      <td>Uzbekistan2014</td>\n",
              "      <td>0.675</td>\n",
              "      <td>63,067,077,179</td>\n",
              "      <td>2309</td>\n",
              "      <td>Generation Z</td>\n",
              "    </tr>\n",
              "    <tr>\n",
              "      <th>27818</th>\n",
              "      <td>Uzbekistan</td>\n",
              "      <td>2014</td>\n",
              "      <td>female</td>\n",
              "      <td>5-14 years</td>\n",
              "      <td>44</td>\n",
              "      <td>2631600</td>\n",
              "      <td>1.67</td>\n",
              "      <td>Uzbekistan2014</td>\n",
              "      <td>0.675</td>\n",
              "      <td>63,067,077,179</td>\n",
              "      <td>2309</td>\n",
              "      <td>Generation Z</td>\n",
              "    </tr>\n",
              "    <tr>\n",
              "      <th>27819</th>\n",
              "      <td>Uzbekistan</td>\n",
              "      <td>2014</td>\n",
              "      <td>female</td>\n",
              "      <td>55-74 years</td>\n",
              "      <td>21</td>\n",
              "      <td>1438935</td>\n",
              "      <td>1.46</td>\n",
              "      <td>Uzbekistan2014</td>\n",
              "      <td>0.675</td>\n",
              "      <td>63,067,077,179</td>\n",
              "      <td>2309</td>\n",
              "      <td>Boomers</td>\n",
              "    </tr>\n",
              "  </tbody>\n",
              "</table>\n",
              "<p>8364 rows × 12 columns</p>\n",
              "</div>"
            ],
            "text/plain": [
              "          country  year  ... gdp_per_capita ($)       generation\n",
              "72        Albania  1995  ...                835     Generation X\n",
              "73        Albania  1995  ...                835           Silent\n",
              "74        Albania  1995  ...                835  G.I. Generation\n",
              "75        Albania  1995  ...                835     Generation X\n",
              "76        Albania  1995  ...                835     Generation X\n",
              "...           ...   ...  ...                ...              ...\n",
              "27815  Uzbekistan  2014  ...               2309     Generation X\n",
              "27816  Uzbekistan  2014  ...               2309           Silent\n",
              "27817  Uzbekistan  2014  ...               2309     Generation Z\n",
              "27818  Uzbekistan  2014  ...               2309     Generation Z\n",
              "27819  Uzbekistan  2014  ...               2309          Boomers\n",
              "\n",
              "[8364 rows x 12 columns]"
            ]
          },
          "metadata": {
            "tags": []
          },
          "execution_count": 12
        }
      ]
    },
    {
      "cell_type": "code",
      "metadata": {
        "id": "eTkyvlcuFqWN",
        "colab_type": "code",
        "outputId": "de5a53e7-5dcc-4a69-cf4a-2f805a2c5316",
        "colab": {
          "base_uri": "https://localhost:8080/",
          "height": 283
        }
      },
      "source": [
        "oops.boxplot(column=[\"suicides_no\"])\n"
      ],
      "execution_count": 0,
      "outputs": [
        {
          "output_type": "execute_result",
          "data": {
            "text/plain": [
              "<matplotlib.axes._subplots.AxesSubplot at 0x7f7490e4f358>"
            ]
          },
          "metadata": {
            "tags": []
          },
          "execution_count": 30
        },
        {
          "output_type": "display_data",
          "data": {
            "image/png": "[encoded data removed]",
            "text/plain": [
              "<Figure size 432x288 with 1 Axes>"
            ]
          },
          "metadata": {
            "tags": []
          }
        }
      ]
    },
    {
      "cell_type": "markdown",
      "metadata": {
        "id": "MT6IHBGxRnNv",
        "colab_type": "text"
      },
      "source": [
        "# **Correlation between variables :**"
      ]
    },
    {
      "cell_type": "markdown",
      "metadata": {
        "colab_type": "text",
        "id": "0goscDw9Sbe1"
      },
      "source": [
        "# **Scatter Plot :**"
      ]
    },
    {
      "cell_type": "code",
      "metadata": {
        "id": "eifkt-FeTLwj",
        "colab_type": "code",
        "outputId": "86357f34-b9cf-4b60-ba5e-ed3d36c6eb5b",
        "colab": {
          "base_uri": "https://localhost:8080/",
          "height": 235
        }
      },
      "source": [
        "# finding correlation between all variables\n",
        "oops.corr()"
      ],
      "execution_count": 0,
      "outputs": [
        {
          "output_type": "execute_result",
          "data": {
            "text/html": [
              "<div>\n",
              "<style scoped>\n",
              "    .dataframe tbody tr th:only-of-type {\n",
              "        vertical-align: middle;\n",
              "    }\n",
              "\n",
              "    .dataframe tbody tr th {\n",
              "        vertical-align: top;\n",
              "    }\n",
              "\n",
              "    .dataframe thead th {\n",
              "        text-align: right;\n",
              "    }\n",
              "</style>\n",
              "<table border=\"1\" class=\"dataframe\">\n",
              "  <thead>\n",
              "    <tr style=\"text-align: right;\">\n",
              "      <th></th>\n",
              "      <th>year</th>\n",
              "      <th>suicides_no</th>\n",
              "      <th>population</th>\n",
              "      <th>suicides/100k pop</th>\n",
              "      <th>HDI for year</th>\n",
              "      <th>gdp_per_capita ($)</th>\n",
              "    </tr>\n",
              "  </thead>\n",
              "  <tbody>\n",
              "    <tr>\n",
              "      <th>year</th>\n",
              "      <td>1.000000</td>\n",
              "      <td>-0.004546</td>\n",
              "      <td>0.008850</td>\n",
              "      <td>-0.039037</td>\n",
              "      <td>0.366786</td>\n",
              "      <td>0.339134</td>\n",
              "    </tr>\n",
              "    <tr>\n",
              "      <th>suicides_no</th>\n",
              "      <td>-0.004546</td>\n",
              "      <td>1.000000</td>\n",
              "      <td>0.616162</td>\n",
              "      <td>0.306604</td>\n",
              "      <td>0.151399</td>\n",
              "      <td>0.061330</td>\n",
              "    </tr>\n",
              "    <tr>\n",
              "      <th>population</th>\n",
              "      <td>0.008850</td>\n",
              "      <td>0.616162</td>\n",
              "      <td>1.000000</td>\n",
              "      <td>0.008285</td>\n",
              "      <td>0.102943</td>\n",
              "      <td>0.081510</td>\n",
              "    </tr>\n",
              "    <tr>\n",
              "      <th>suicides/100k pop</th>\n",
              "      <td>-0.039037</td>\n",
              "      <td>0.306604</td>\n",
              "      <td>0.008285</td>\n",
              "      <td>1.000000</td>\n",
              "      <td>0.074279</td>\n",
              "      <td>0.001785</td>\n",
              "    </tr>\n",
              "    <tr>\n",
              "      <th>HDI for year</th>\n",
              "      <td>0.366786</td>\n",
              "      <td>0.151399</td>\n",
              "      <td>0.102943</td>\n",
              "      <td>0.074279</td>\n",
              "      <td>1.000000</td>\n",
              "      <td>0.771228</td>\n",
              "    </tr>\n",
              "    <tr>\n",
              "      <th>gdp_per_capita ($)</th>\n",
              "      <td>0.339134</td>\n",
              "      <td>0.061330</td>\n",
              "      <td>0.081510</td>\n",
              "      <td>0.001785</td>\n",
              "      <td>0.771228</td>\n",
              "      <td>1.000000</td>\n",
              "    </tr>\n",
              "  </tbody>\n",
              "</table>\n",
              "</div>"
            ],
            "text/plain": [
              "                        year  suicides_no  ...  HDI for year  gdp_per_capita ($)\n",
              "year                1.000000    -0.004546  ...      0.366786            0.339134\n",
              "suicides_no        -0.004546     1.000000  ...      0.151399            0.061330\n",
              "population          0.008850     0.616162  ...      0.102943            0.081510\n",
              "suicides/100k pop  -0.039037     0.306604  ...      0.074279            0.001785\n",
              "HDI for year        0.366786     0.151399  ...      1.000000            0.771228\n",
              "gdp_per_capita ($)  0.339134     0.061330  ...      0.771228            1.000000\n",
              "\n",
              "[6 rows x 6 columns]"
            ]
          },
          "metadata": {
            "tags": []
          },
          "execution_count": 45
        }
      ]
    },
    {
      "cell_type": "code",
      "metadata": {
        "id": "mKMUA7u2S01H",
        "colab_type": "code",
        "outputId": "0c379f16-3c50-4364-8b31-b4ed80359c22",
        "colab": {
          "base_uri": "https://localhost:8080/",
          "height": 34
        }
      },
      "source": [
        " #finding correlation between two variables\n",
        "oops[\"year\"].corr(oops[\"population\"])"
      ],
      "execution_count": 0,
      "outputs": [
        {
          "output_type": "execute_result",
          "data": {
            "text/plain": [
              "0.008850169994863577"
            ]
          },
          "metadata": {
            "tags": []
          },
          "execution_count": 46
        }
      ]
    },
    {
      "cell_type": "markdown",
      "metadata": {
        "id": "NSmyF3A-Ypa6",
        "colab_type": "text"
      },
      "source": [
        "***years and population is positively correlated***"
      ]
    },
    {
      "cell_type": "code",
      "metadata": {
        "colab_type": "code",
        "outputId": "d40bbb5e-0dd4-490f-e355-004e42677dee",
        "id": "DgbN5WrTSbe4",
        "colab": {
          "base_uri": "https://localhost:8080/",
          "height": 312
        }
      },
      "source": [
        "#scatter plot between year and population\n",
        "oops.plot.scatter(x=\"year\",y=\"population\",title=\"scatter plot\")"
      ],
      "execution_count": 0,
      "outputs": [
        {
          "output_type": "execute_result",
          "data": {
            "text/plain": [
              "<matplotlib.axes._subplots.AxesSubplot at 0x7f7493d15828>"
            ]
          },
          "metadata": {
            "tags": []
          },
          "execution_count": 11
        },
        {
          "output_type": "display_data",
          "data": {
            "image/png": "[encoded data removed]",
            "text/plain": [
              "<Figure size 432x288 with 1 Axes>"
            ]
          },
          "metadata": {
            "tags": []
          }
        }
      ]
    },
    {
      "cell_type": "code",
      "metadata": {
        "id": "BganPpEfV71Q",
        "colab_type": "code",
        "outputId": "429e17df-e673-4d62-936f-764102610459",
        "colab": {
          "base_uri": "https://localhost:8080/",
          "height": 34
        }
      },
      "source": [
        "#correlation between year and suicide number\n",
        "oops[\"year\"].corr(oops[\"suicides_no\"])"
      ],
      "execution_count": 0,
      "outputs": [
        {
          "output_type": "execute_result",
          "data": {
            "text/plain": [
              "-0.004545957507435394"
            ]
          },
          "metadata": {
            "tags": []
          },
          "execution_count": 48
        }
      ]
    },
    {
      "cell_type": "markdown",
      "metadata": {
        "id": "75G698g7Y4vL",
        "colab_type": "text"
      },
      "source": [
        "**years and suicides number is negitively correlated**"
      ]
    },
    {
      "cell_type": "code",
      "metadata": {
        "id": "6vPrQqJ4W8dX",
        "colab_type": "code",
        "outputId": "5642ea63-1f85-4dfd-f63d-146872997bfc",
        "colab": {
          "base_uri": "https://localhost:8080/",
          "height": 312
        }
      },
      "source": [
        "#scatter plot between year and suicide number\n",
        "oops.plot.scatter(x=\"year\",y=\"suicides_no\",title=\"scatter plot\")"
      ],
      "execution_count": 0,
      "outputs": [
        {
          "output_type": "execute_result",
          "data": {
            "text/plain": [
              "<matplotlib.axes._subplots.AxesSubplot at 0x7f7490c802e8>"
            ]
          },
          "metadata": {
            "tags": []
          },
          "execution_count": 49
        },
        {
          "output_type": "display_data",
          "data": {
            "image/png": "[encoded data removed]",
            "text/plain": [
              "<Figure size 432x288 with 1 Axes>"
            ]
          },
          "metadata": {
            "tags": []
          }
        }
      ]
    },
    {
      "cell_type": "code",
      "metadata": {
        "id": "mkyUNoqdXYqw",
        "colab_type": "code",
        "outputId": "58e8ced6-82f0-493f-9f1f-81ce3f78b091",
        "colab": {
          "base_uri": "https://localhost:8080/",
          "height": 34
        }
      },
      "source": [
        "#finding correlation between two variables\n",
        "oops[\"suicides_no\"].corr(oops[\"HDI for year\"])"
      ],
      "execution_count": 0,
      "outputs": [
        {
          "output_type": "execute_result",
          "data": {
            "text/plain": [
              "0.1513986717989382"
            ]
          },
          "metadata": {
            "tags": []
          },
          "execution_count": 53
        }
      ]
    },
    {
      "cell_type": "markdown",
      "metadata": {
        "id": "YLGnBJ0iZXUz",
        "colab_type": "text"
      },
      "source": [
        "**suicides number and HDI for year is positively correlated**"
      ]
    },
    {
      "cell_type": "code",
      "metadata": {
        "id": "s3V4DCxRYNyV",
        "colab_type": "code",
        "outputId": "0c992731-d5a6-4ba2-c2a3-7e57944ae201",
        "colab": {
          "base_uri": "https://localhost:8080/",
          "height": 313
        }
      },
      "source": [
        "#scatter plot between  suicide number and HDI of year\n",
        "oops.plot.scatter(x=\"suicides_no\",y=\"HDI for year\",title=\"scatter plot\")"
      ],
      "execution_count": 0,
      "outputs": [
        {
          "output_type": "execute_result",
          "data": {
            "text/plain": [
              "<matplotlib.axes._subplots.AxesSubplot at 0x7f7490f8cf98>"
            ]
          },
          "metadata": {
            "tags": []
          },
          "execution_count": 52
        },
        {
          "output_type": "display_data",
          "data": {
            "image/png": "[encoded data removed]",
            "text/plain": [
              "<Figure size 432x288 with 1 Axes>"
            ]
          },
          "metadata": {
            "tags": []
          }
        }
      ]
    },
    {
      "cell_type": "code",
      "metadata": {
        "id": "ViyDycxxYjsI",
        "colab_type": "code",
        "outputId": "99ce6326-de0b-40ae-e379-7b347b212b10",
        "colab": {
          "base_uri": "https://localhost:8080/",
          "height": 34
        }
      },
      "source": [
        "oops[\"suicides_no\"].corr(oops[\"HDI for year\"])"
      ],
      "execution_count": 0,
      "outputs": [
        {
          "output_type": "execute_result",
          "data": {
            "text/plain": [
              "0.1513986717989382"
            ]
          },
          "metadata": {
            "tags": []
          },
          "execution_count": 13
        }
      ]
    },
    {
      "cell_type": "markdown",
      "metadata": {
        "id": "yAdZhM3Jcco0",
        "colab_type": "text"
      },
      "source": [
        "#              **From the above dataset we analysed that number of suicides increases with years** "
      ]
    },
    {
      "cell_type": "markdown",
      "metadata": {
        "id": "r94ZwXHeeXSo",
        "colab_type": "text"
      },
      "source": [
        "\n",
        "  **participants:**\n",
        "1. Ch.Gopi sai teja (19PA1A0432)\n",
        "2.D.Yuva Teja (19PA1A0439)\n",
        "3.D.L.kartheek(19PA1A0441)\n",
        "4.G.Manikanta(19PA1A0455)\n"
      ]
    }
  ]
}